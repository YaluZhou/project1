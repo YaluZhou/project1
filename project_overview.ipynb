{
 "cells": [
  {
   "cell_type": "markdown",
   "metadata": {},
   "source": [
    "## Team Name (Data Sharks)"
   ]
  },
  {
   "cell_type": "code",
   "execution_count": 2,
   "metadata": {},
   "outputs": [],
   "source": [
    "Group Participants:\n",
    "    \n",
    "1. Git Master = Yalu Zhou\n",
    "2. Project Manager = Anu Guha\n",
    "3. Data Checker = Dipti Patel\n",
    "4. Presentation Design = Korbin Mays\n",
    "\n",
    "Project Idea:\n",
    "\n",
    "COVID-19 Pandemic - Brainstorming Thoughts/Questions:\n",
    "    - Which counties in Illinois have been impacted the most (and why?)\n",
    "    - Analyze poverty rate by zipcode\n",
    "    - Analyze median income by zipcode\n",
    "    - Analyze how age plays a factor\n",
    "    - Look at all counties in state; Analyze positive cases\n",
    "    - Generate a heat map for poverty rate\n",
    "    \n",
    "\n",
    "\n",
    "\n",
    "Sources:\n",
    "    \n",
    "1. http://www.dph.illinois.gov/topics-services/diseases-and-conditions/diseases-a-z-list/coronavirus\n",
    "2. https://github.com/datamade/census    \n",
    "3. https://covidtracking.com/data\n",
    "4. https://data.illinois.gov/dataset?res_format=CSV\n",
    "5. https://www.kaggle.com/fireballbyedimyrnmom/us-counties-covid-19-dataset\n",
    "6. https://raw.githubusercontent.com/nytimes/covid-19-data/master/us-counties.csv\n",
    "\n",
    "Tasks:\n",
    "    \n",
    "* Zipcode analysis:\n",
    "    - all (102) counties in Illinois\n",
    "    - poverty rate\n",
    "    - age\n",
    "    - median income\n",
    "\n",
    "* Heatmap:\n",
    "    - state of Illinois (APIs from Google Maps / US Census)\n",
    "    \n",
    "* Charts:\n",
    "    - Bar Chart - gender, age, median income, poverty rate\n",
    "    - Scatter Plot\n",
    "    - Line Chart"
   ]
  },
  {
   "cell_type": "code",
   "execution_count": null,
   "metadata": {},
   "outputs": [],
   "source": []
  }
 ],
 "metadata": {
  "kernelspec": {
   "display_name": "Python 3",
   "language": "python",
   "name": "python3"
  },
  "language_info": {
   "codemirror_mode": {
    "name": "ipython",
    "version": 3
   },
   "file_extension": ".py",
   "mimetype": "text/x-python",
   "name": "python",
   "nbconvert_exporter": "python",
   "pygments_lexer": "ipython3",
   "version": "3.7.4"
  }
 },
 "nbformat": 4,
 "nbformat_minor": 2
}
